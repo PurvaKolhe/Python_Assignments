{
 "cells": [
  {
   "cell_type": "code",
   "execution_count": 2,
   "id": "60da8f0c",
   "metadata": {},
   "outputs": [],
   "source": [
    "import numpy as np"
   ]
  },
  {
   "cell_type": "markdown",
   "id": "70feb691",
   "metadata": {},
   "source": [
    "### Q-01: Create a 3x3 numpy array of the True's"
   ]
  },
  {
   "cell_type": "code",
   "execution_count": 4,
   "id": "47667390",
   "metadata": {},
   "outputs": [
    {
     "name": "stdout",
     "output_type": "stream",
     "text": [
      "[[ True  True  True]\n",
      " [ True  True  True]\n",
      " [ True  True  True]]\n"
     ]
    }
   ],
   "source": [
    "x1 = np.ones(9, dtype = bool).reshape((3, 3))\n",
    "print(x1)"
   ]
  },
  {
   "cell_type": "markdown",
   "id": "c039977b",
   "metadata": {},
   "source": [
    "### Q-02: Extract all odd numbers from arrays"
   ]
  },
  {
   "cell_type": "code",
   "execution_count": 7,
   "id": "470b3ea1",
   "metadata": {},
   "outputs": [
    {
     "data": {
      "text/plain": [
       "array([1, 3, 5, 7, 9])"
      ]
     },
     "execution_count": 7,
     "metadata": {},
     "output_type": "execute_result"
    }
   ],
   "source": [
    "x2 = np.array([0, 1, 2, 3, 4, 5, 6, 7, 8, 9])\n",
    "print(x2[x2 % 2 == 1])"
   ]
  },
  {
   "cell_type": "markdown",
   "id": "7fdd9082",
   "metadata": {},
   "source": [
    "### Q-03: Replace all even numbers in above array with -5"
   ]
  },
  {
   "cell_type": "code",
   "execution_count": 10,
   "id": "8d4a1190",
   "metadata": {},
   "outputs": [
    {
     "name": "stdout",
     "output_type": "stream",
     "text": [
      "[-5  1 -5  3 -5  5 -5  7 -5  9]\n"
     ]
    }
   ],
   "source": [
    "i = x2[x2 % 2 == 0]\n",
    "x2[i] = -5\n",
    "print(x2)"
   ]
  },
  {
   "cell_type": "markdown",
   "id": "1857b852",
   "metadata": {},
   "source": [
    "### Q-04: Reshape an array"
   ]
  },
  {
   "cell_type": "code",
   "execution_count": 17,
   "id": "becb9c84",
   "metadata": {},
   "outputs": [
    {
     "name": "stdout",
     "output_type": "stream",
     "text": [
      "[[0 1 2 3 4]\n",
      " [5 6 7 8 9]]\n"
     ]
    }
   ],
   "source": [
    "x3 = np.array([0, 1, 2, 3, 4, 5, 6, 7, 8, 9]).reshape(2,5)\n",
    "print(x3)"
   ]
  },
  {
   "cell_type": "markdown",
   "id": "363da1cb",
   "metadata": {},
   "source": [
    "### Q-05: How to get the positions where elements of two arrays match"
   ]
  },
  {
   "cell_type": "code",
   "execution_count": 24,
   "id": "8afeee08",
   "metadata": {},
   "outputs": [
    {
     "data": {
      "text/plain": [
       "(array([1, 3, 5, 7], dtype=int64),)"
      ]
     },
     "execution_count": 24,
     "metadata": {},
     "output_type": "execute_result"
    }
   ],
   "source": [
    "a = np.array([1, 2, 3, 2, 3, 4, 3, 4, 5, 6])\n",
    "b = np.array([7, 2, 10, 2, 7,4, 9, 4, 9, 8])\n",
    "np.where(a==b)"
   ]
  },
  {
   "cell_type": "markdown",
   "id": "fa33f349",
   "metadata": {},
   "source": [
    "### Q-06: Swap columns 1 and 2 in the array"
   ]
  },
  {
   "cell_type": "code",
   "execution_count": 46,
   "id": "457f02b0",
   "metadata": {},
   "outputs": [
    {
     "name": "stdout",
     "output_type": "stream",
     "text": [
      "Before Array: \n",
      " [[1 2 3]\n",
      " [4 5 6]\n",
      " [7 8 9]]\n",
      "After Swaping: \n",
      " [[2 1 3]\n",
      " [5 4 6]\n",
      " [8 7 9]]\n"
     ]
    }
   ],
   "source": [
    "x4 = np.array([[1, 2, 3], [4, 5, 6], [7, 8, 9]])\n",
    "print('Before Array: \\n',x4)\n",
    "x4[:, [1, 0]] = x4[:, [0, 1]]\n",
    "print('After Swaping: \\n',x4)"
   ]
  },
  {
   "cell_type": "markdown",
   "id": "4d7842eb",
   "metadata": {},
   "source": [
    "### Q-07: Reversing the columns of a 2D array"
   ]
  },
  {
   "cell_type": "code",
   "execution_count": 43,
   "id": "b3ee6b5e",
   "metadata": {},
   "outputs": [
    {
     "data": {
      "text/plain": [
       "array([[3, 2, 1],\n",
       "       [6, 5, 4],\n",
       "       [9, 8, 7]])"
      ]
     },
     "execution_count": 43,
     "metadata": {},
     "output_type": "execute_result"
    }
   ],
   "source": [
    "x5 = np.array([[1, 2, 3], [4, 5, 6], [7, 8, 9]])\n",
    "x5[:,::-1]"
   ]
  },
  {
   "cell_type": "markdown",
   "id": "4874b56e",
   "metadata": {},
   "source": [
    "### Q-08: Create a 2D array of shape 5x3 to contain random decimals between 5 and 10"
   ]
  },
  {
   "cell_type": "code",
   "execution_count": 52,
   "id": "4ff798af",
   "metadata": {},
   "outputs": [
    {
     "name": "stdout",
     "output_type": "stream",
     "text": [
      "[[9.81563112 5.64092286 5.78754424]\n",
      " [6.08943806 6.87291264 8.84371292]\n",
      " [7.03570125 6.55387349 5.10886821]\n",
      " [7.11635764 7.47303321 5.42838729]\n",
      " [5.70329931 9.89253151 9.89198701]]\n"
     ]
    }
   ],
   "source": [
    "x6 = np.random.uniform(5, 10, size = (5, 3))\n",
    "print(x6)"
   ]
  },
  {
   "cell_type": "markdown",
   "id": "6af621e8",
   "metadata": {},
   "source": [
    "### Q-09: Create a 2D array with i on the border and 0 inside"
   ]
  },
  {
   "cell_type": "code",
   "execution_count": 78,
   "id": "54529561",
   "metadata": {},
   "outputs": [
    {
     "name": "stdout",
     "output_type": "stream",
     "text": [
      "[[1. 1. 1. 1. 1. 1. 1. 1. 1. 1.]\n",
      " [1. 0. 0. 0. 0. 0. 0. 0. 0. 1.]\n",
      " [1. 0. 0. 0. 0. 0. 0. 0. 0. 1.]\n",
      " [1. 0. 0. 0. 0. 0. 0. 0. 0. 1.]\n",
      " [1. 0. 0. 0. 0. 0. 0. 0. 0. 1.]\n",
      " [1. 0. 0. 0. 0. 0. 0. 0. 0. 1.]\n",
      " [1. 0. 0. 0. 0. 0. 0. 0. 0. 1.]\n",
      " [1. 0. 0. 0. 0. 0. 0. 0. 0. 1.]\n",
      " [1. 0. 0. 0. 0. 0. 0. 0. 0. 1.]\n",
      " [1. 1. 1. 1. 1. 1. 1. 1. 1. 1.]]\n"
     ]
    }
   ],
   "source": [
    "x7 = np.ones((10, 10))\n",
    "x7[1:-1, 1:-1]= 0\n",
    "print(x7)"
   ]
  },
  {
   "cell_type": "markdown",
   "id": "b643c50e",
   "metadata": {},
   "source": [
    "### Q-10: Use fancy indexing"
   ]
  },
  {
   "cell_type": "code",
   "execution_count": 73,
   "id": "bbe15fb2",
   "metadata": {},
   "outputs": [
    {
     "data": {
      "text/plain": [
       "array([12, 14, 11])"
      ]
     },
     "execution_count": 73,
     "metadata": {},
     "output_type": "execute_result"
    }
   ],
   "source": [
    "x8 = np.array([[9, 1, 12, 3], [14, 15, 6, 7], [18, 9, 10, 11]])\n",
    "x8[[0, 1, 2], [2, 0, 3]]"
   ]
  }
 ],
 "metadata": {
  "kernelspec": {
   "display_name": "Python 3 (ipykernel)",
   "language": "python",
   "name": "python3"
  },
  "language_info": {
   "codemirror_mode": {
    "name": "ipython",
    "version": 3
   },
   "file_extension": ".py",
   "mimetype": "text/x-python",
   "name": "python",
   "nbconvert_exporter": "python",
   "pygments_lexer": "ipython3",
   "version": "3.10.4"
  }
 },
 "nbformat": 4,
 "nbformat_minor": 5
}
